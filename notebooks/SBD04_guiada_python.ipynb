{
 "cells": [
  {
   "cell_type": "markdown",
   "id": "201a45c3-f04e-4c77-90c8-0406fc5da782",
   "metadata": {},
   "source": [
    "Importar NumPy:"
   ]
  },
  {
   "cell_type": "code",
   "execution_count": 2,
   "id": "ac20cf59-2cdc-48f8-aa4a-348761ae59b5",
   "metadata": {},
   "outputs": [],
   "source": [
    "import numpy as np"
   ]
  },
  {
   "cell_type": "markdown",
   "id": "6b357a5f-57f2-4b40-8ee1-0b8e15d16110",
   "metadata": {},
   "source": [
    "Crear arrays a partir de listas:"
   ]
  },
  {
   "cell_type": "code",
   "execution_count": 3,
   "id": "c5545cd0-877d-4f1d-983f-4b88f358b216",
   "metadata": {},
   "outputs": [
    {
     "name": "stdout",
     "output_type": "stream",
     "text": [
      "[1.  2.1 3.  4.2 5. ]\n",
      "[[1 2 3]\n",
      " [4 5 6]\n",
      " [7 8 9]]\n"
     ]
    }
   ],
   "source": [
    "x1=np.array([1,2.1,3,4.2,5])\n",
    "x2=np.array([[1,2,3],[4,5,6],[7,8,9]])\n",
    "print(x1)\n",
    "print(x2)"
   ]
  },
  {
   "cell_type": "markdown",
   "id": "64436a5f-1cfc-4bf5-bf35-5096a44f9572",
   "metadata": {},
   "source": [
    "Funciones de NumPy para crear arrays:"
   ]
  },
  {
   "cell_type": "code",
   "execution_count": 4,
   "id": "f549d7c1-c27b-4164-b062-1141171f8e89",
   "metadata": {},
   "outputs": [
    {
     "name": "stdout",
     "output_type": "stream",
     "text": [
      "[0. 0. 0. 0. 0.]\n",
      "[[[1 1]\n",
      "  [1 1]]\n",
      "\n",
      " [[1 1]\n",
      "  [1 1]]]\n",
      "[[2.78 2.78 2.78 2.78]\n",
      " [2.78 2.78 2.78 2.78]]\n",
      "[[0.83283583 0.00970198]\n",
      " [0.522996   0.27388839]]\n"
     ]
    }
   ],
   "source": [
    "x1=np.zeros(5,dtype=float)\n",
    "x2=np.ones((2,2,2),dtype=int)\n",
    "x3=np.full((2,4),2.78)\n",
    "x4=np.random.random((2,2))\n",
    "print(x1)\n",
    "print(x2)\n",
    "print(x3)\n",
    "print(x4)"
   ]
  },
  {
   "cell_type": "code",
   "execution_count": null,
   "id": "67ef9a29-47e6-410a-8c5c-eeebf8e9115e",
   "metadata": {},
   "outputs": [],
   "source": []
  }
 ],
 "metadata": {
  "kernelspec": {
   "display_name": "Python 3 (ipykernel)",
   "language": "python",
   "name": "python3"
  },
  "language_info": {
   "codemirror_mode": {
    "name": "ipython",
    "version": 3
   },
   "file_extension": ".py",
   "mimetype": "text/x-python",
   "name": "python",
   "nbconvert_exporter": "python",
   "pygments_lexer": "ipython3",
   "version": "3.12.9"
  }
 },
 "nbformat": 4,
 "nbformat_minor": 5
}
