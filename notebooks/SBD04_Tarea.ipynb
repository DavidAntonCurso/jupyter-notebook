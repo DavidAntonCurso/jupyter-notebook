{
 "cells": [
  {
   "cell_type": "markdown",
   "id": "0589a1d1-be75-4483-95d2-c0e6b53032ac",
   "metadata": {},
   "source": [
    "•\tApartado 1: \n",
    "Crea un DataFrame llamado df a partir de la lista de razas y puntuaciones otorgadas por Enrique, usando el índice, las columnas que se te proporcionan.\n"
   ]
  },
  {
   "cell_type": "code",
   "execution_count": 1,
   "id": "627429ba-5c54-45a2-a4f9-fb97ea1f8617",
   "metadata": {},
   "outputs": [
    {
     "name": "stdout",
     "output_type": "stream",
     "text": [
      "----------------------------\n",
      "--- Apartado 1            --\n",
      "----------------------------\n",
      "        Raza  Puntos\n",
      "0    Caniche     8.1\n",
      "1    Bulldog     7.3\n",
      "2   ChowChow     7.6\n",
      "3  Chihuahua     9.0\n",
      "4   Labrador     9.3\n"
     ]
    }
   ],
   "source": [
    "import matplotlib.pyplot as plt\n",
    "import pandas as pd\n",
    "import numpy as np\n",
    "import scipy as sp\n",
    "\n",
    "indice = ['uno','dos','tres','cuatro','cinco']\n",
    "columnas = ['Raza','Puntos']\n",
    "lista = [['Caniche',8.1],['Bulldog',7.3],['ChowChow',7.6],['Chihuahua',9.0],['Labrador',9.3]]\n",
    "\n",
    "df=pd.DataFrame(lista,columns=columnas)\n",
    "\n",
    "print('----------------------------')\n",
    "print('--- Apartado 1            --')\n",
    "print('----------------------------')\n",
    "print(df)"
   ]
  },
  {
   "cell_type": "markdown",
   "id": "da16c69a-e471-4555-bb59-cffc4ca4931d",
   "metadata": {},
   "source": [
    "•\tApartado 2: \n",
    "Ana le entrega sus puntuaciones a Enrique y éste las transcribe en forma de la siguiente lista:\n",
    "\n",
    "puntos_ana = [61,75,82,95,99]\n",
    "Añade la columna con etiqueta 'PuntosAna' al DataFrame."
   ]
  },
  {
   "cell_type": "code",
   "execution_count": 2,
   "id": "f6cb926b-ec47-4c75-8704-ca8ba9b341fc",
   "metadata": {},
   "outputs": [
    {
     "name": "stdout",
     "output_type": "stream",
     "text": [
      "----------------------------\n",
      "--- Apartado 2            --\n",
      "----------------------------\n",
      "        Raza  Puntos  PuntosAna\n",
      "0    Caniche     8.1         61\n",
      "1    Bulldog     7.3         75\n",
      "2   ChowChow     7.6         82\n",
      "3  Chihuahua     9.0         95\n",
      "4   Labrador     9.3         99\n"
     ]
    }
   ],
   "source": [
    "puntos_ana = [61,75,82,95,99]\n",
    "\n",
    "df['PuntosAna']=puntos_ana\n",
    "\n",
    "print('----------------------------')\n",
    "print('--- Apartado 2            --')\n",
    "print('----------------------------')\n",
    "\n",
    "print(df)\n"
   ]
  },
  {
   "cell_type": "markdown",
   "id": "eef2f479-1931-444e-8562-7c0b0061ffef",
   "metadata": {},
   "source": [
    "•\tApartado 3: \n",
    "Como las puntuaciones de Ana han entrado en valores de 0 a 100 y las de Enrique estaban de 0 a 10, divide la columna 'PuntosAna' entre 10 de modo que todas las puntuaciones queden en la misma escala.\n"
   ]
  },
  {
   "cell_type": "code",
   "execution_count": 3,
   "id": "509eecf4-989f-4531-b4c4-d06bdaaaf895",
   "metadata": {},
   "outputs": [
    {
     "name": "stdout",
     "output_type": "stream",
     "text": [
      "----------------------------\n",
      "--- Apartado 3            --\n",
      "----------------------------\n",
      "        Raza  Puntos  PuntosAna\n",
      "0    Caniche     8.1        6.1\n",
      "1    Bulldog     7.3        7.5\n",
      "2   ChowChow     7.6        8.2\n",
      "3  Chihuahua     9.0        9.5\n",
      "4   Labrador     9.3        9.9\n"
     ]
    }
   ],
   "source": [
    "df['PuntosAna'] = df['PuntosAna'] / 10\n",
    "print('----------------------------')\n",
    "print('--- Apartado 3            --')\n",
    "print('----------------------------')\n",
    "\n",
    "print(df)"
   ]
  },
  {
   "cell_type": "markdown",
   "id": "b78ca323-4c14-408d-a22c-46ec8b867841",
   "metadata": {},
   "source": [
    "•\tApartado 4: \n",
    "Enrique y Ana han estado viendo una revista de animales y han decidido añadir otras dos razas más, por lo que han creado la siguiente lista ya con sus puntuaciones integradas. \n",
    "lista2 = [['Samoyedo',9.2,8.9],['Pinscher',8.1,6.7]]\n",
    "Añade esas dos nuevas filas al DataFrame.\n"
   ]
  },
  {
   "cell_type": "code",
   "execution_count": 4,
   "id": "70701827-21f0-4ffe-906c-0d57ccba0569",
   "metadata": {},
   "outputs": [
    {
     "name": "stdout",
     "output_type": "stream",
     "text": [
      "----------------------------\n",
      "--- Apartado 4            --\n",
      "----------------------------\n",
      "        Raza  Puntos  PuntosAna\n",
      "0    Caniche     8.1        6.1\n",
      "1    Bulldog     7.3        7.5\n",
      "2   ChowChow     7.6        8.2\n",
      "3  Chihuahua     9.0        9.5\n",
      "4   Labrador     9.3        9.9\n",
      "5   Samoyedo     9.2        8.9\n",
      "6   Pinscher     8.1        6.7\n"
     ]
    }
   ],
   "source": [
    "columnas2 = ['Raza','Puntos','PuntosAna']\n",
    "lista2 = [['Samoyedo',9.2,8.9],['Pinscher',8.1,6.7]]\n",
    "df2 = pd.DataFrame(lista2,columns=columnas2)\n",
    "\n",
    "df = pd.concat([df,df2],ignore_index=True)\n",
    "\n",
    "print('----------------------------')\n",
    "print('--- Apartado 4            --')\n",
    "print('----------------------------')\n",
    "\n",
    "print(df)\n"
   ]
  },
  {
   "cell_type": "markdown",
   "id": "ce106e90-e715-495c-b814-e938511caa98",
   "metadata": {},
   "source": [
    "•\tApartado 5: \n",
    "Crea la columna 'Media' para poder ver la puntuación media para cada raza.\n"
   ]
  },
  {
   "cell_type": "code",
   "execution_count": 5,
   "id": "73693de1-5cd5-4da9-b39d-c363cfa7d75e",
   "metadata": {},
   "outputs": [
    {
     "name": "stdout",
     "output_type": "stream",
     "text": [
      "----------------------------\n",
      "--- Apartado 5            --\n",
      "----------------------------\n",
      "        Raza  Puntos  PuntosAna  Media\n",
      "0    Caniche     8.1        6.1   7.10\n",
      "1    Bulldog     7.3        7.5   7.40\n",
      "2   ChowChow     7.6        8.2   7.90\n",
      "3  Chihuahua     9.0        9.5   9.25\n",
      "4   Labrador     9.3        9.9   9.60\n",
      "5   Samoyedo     9.2        8.9   9.05\n",
      "6   Pinscher     8.1        6.7   7.40\n"
     ]
    }
   ],
   "source": [
    "df['Media'] = df.select_dtypes(include=[np.number]).mean(axis=1)\n",
    "print('----------------------------')\n",
    "print('--- Apartado 5            --')\n",
    "print('----------------------------')\n",
    "\n",
    "print(df)\n"
   ]
  },
  {
   "cell_type": "markdown",
   "id": "fa987f49-0e41-4917-99bf-593409005b1f",
   "metadata": {},
   "source": [
    "•\tApartado 6: \n",
    "Enrique y Ana deciden que no tendrán un bulldog. Elimina la fila cuyo índice es 'dos'.\n"
   ]
  },
  {
   "cell_type": "code",
   "execution_count": 6,
   "id": "d023675d-1f5f-4f9b-b385-ed9ccaf9b87c",
   "metadata": {},
   "outputs": [
    {
     "name": "stdout",
     "output_type": "stream",
     "text": [
      "----------------------------\n",
      "--- Apartado 6            --\n",
      "----------------------------\n",
      "        Raza  Puntos  PuntosAna  Media\n",
      "0    Caniche     8.1        6.1   7.10\n",
      "2   ChowChow     7.6        8.2   7.90\n",
      "3  Chihuahua     9.0        9.5   9.25\n",
      "4   Labrador     9.3        9.9   9.60\n",
      "5   Samoyedo     9.2        8.9   9.05\n",
      "6   Pinscher     8.1        6.7   7.40\n"
     ]
    }
   ],
   "source": [
    "df=df.drop(1)\n",
    "print('----------------------------')\n",
    "print('--- Apartado 6            --')\n",
    "print('----------------------------')\n",
    "\n",
    "print(df)"
   ]
  },
  {
   "cell_type": "markdown",
   "id": "1b184298-f405-43de-a480-7ce5f8b9cf92",
   "metadata": {},
   "source": [
    "•\tApartado 7: \n",
    "Viendo las puntuaciones medias, Enrique y Ana deciden que la decisión va a estar entre chihuahua, labrador y samoyedo, por lo que deciden obtener sólo esas filas del DataFrame (en concreto desde la posición 2 hasta la 5 -no incluída-).\n"
   ]
  },
  {
   "cell_type": "code",
   "execution_count": 7,
   "id": "43980891-f560-4eb6-b8ae-c57146a8b07b",
   "metadata": {},
   "outputs": [
    {
     "name": "stdout",
     "output_type": "stream",
     "text": [
      "----------------------------\n",
      "--- Apartado 7            --\n",
      "----------------------------\n",
      "        Raza  Puntos  PuntosAna  Media\n",
      "3  Chihuahua     9.0        9.5   9.25\n",
      "4   Labrador     9.3        9.9   9.60\n",
      "5   Samoyedo     9.2        8.9   9.05\n"
     ]
    }
   ],
   "source": [
    "df2 = df[2:5]\n",
    "print('----------------------------')\n",
    "print('--- Apartado 7            --')\n",
    "print('----------------------------')\n",
    "\n",
    "print(df2)\n"
   ]
  },
  {
   "cell_type": "markdown",
   "id": "c2c684b3-a814-4fba-a1aa-43636d6893ce",
   "metadata": {},
   "source": [
    "•\tApartado 8: \n",
    "Por último, sólo por curiosidad, deciden ver información estadística sobre las filas que les han quedado.\n"
   ]
  },
  {
   "cell_type": "code",
   "execution_count": 8,
   "id": "ca937d05-e42c-47ff-b5b0-f2f86352190a",
   "metadata": {},
   "outputs": [
    {
     "name": "stdout",
     "output_type": "stream",
     "text": [
      "         Puntos  PuntosAna     Media\n",
      "count  3.000000   3.000000  3.000000\n",
      "mean   9.166667   9.433333  9.300000\n",
      "std    0.152753   0.503322  0.278388\n",
      "min    9.000000   8.900000  9.050000\n",
      "25%    9.100000   9.200000  9.150000\n",
      "50%    9.200000   9.500000  9.250000\n",
      "75%    9.250000   9.700000  9.425000\n",
      "max    9.300000   9.900000  9.600000\n"
     ]
    }
   ],
   "source": [
    "print(df2.describe())"
   ]
  },
  {
   "cell_type": "code",
   "execution_count": null,
   "id": "d5275d00-a9ec-44c8-aa89-ebc3858b7e8e",
   "metadata": {},
   "outputs": [],
   "source": []
  }
 ],
 "metadata": {
  "kernelspec": {
   "display_name": "Python 3 (ipykernel)",
   "language": "python",
   "name": "python3"
  },
  "language_info": {
   "codemirror_mode": {
    "name": "ipython",
    "version": 3
   },
   "file_extension": ".py",
   "mimetype": "text/x-python",
   "name": "python",
   "nbconvert_exporter": "python",
   "pygments_lexer": "ipython3",
   "version": "3.12.9"
  }
 },
 "nbformat": 4,
 "nbformat_minor": 5
}
